{
 "cells": [
  {
   "cell_type": "code",
   "execution_count": 1,
   "id": "1b79c665",
   "metadata": {},
   "outputs": [],
   "source": [
    "# Import the MNIST dataset from Keras\n",
    "from tensorflow.keras.datasets import mnist\n",
    "# Load the MNIST dataset and split it into training and testing sets\n",
    "(x_train, labels_train), (x_test, labels_test) = mnist.load_data()"
   ]
  },
  {
   "cell_type": "code",
   "execution_count": 2,
   "id": "f3ae3dc1",
   "metadata": {},
   "outputs": [],
   "source": [
    "# Normalize the pixel values to be between 0 and 1\n",
    "x_train = x_train.astype('float32') / 255\n",
    "x_test = x_test.astype('float32') / 255"
   ]
  },
  {
   "cell_type": "code",
   "execution_count": 3,
   "id": "264f5860",
   "metadata": {},
   "outputs": [],
   "source": [
    "# Convert the class labels to one-hot encoded vectors\n",
    "from tensorflow.keras.utils import to_categorical\n",
    "y_train = to_categorical(labels_train, 10)\n",
    "y_test = to_categorical(labels_test, 10)"
   ]
  },
  {
   "cell_type": "code",
   "execution_count": 4,
   "id": "d63a882a",
   "metadata": {},
   "outputs": [],
   "source": [
    "x_train = x_train.reshape(x_train.shape[0], 28, 28, 1)\n",
    "x_test = x_test.reshape(x_test.shape[0], 28, 28, 1)"
   ]
  },
  {
   "cell_type": "code",
   "execution_count": 5,
   "id": "9fea9be7",
   "metadata": {},
   "outputs": [],
   "source": [
    "#ImageDataGenerator Instance\n",
    "from tensorflow.keras.preprocessing.image import ImageDataGenerator\n",
    "datagen = ImageDataGenerator(\n",
    "        rotation_range=15,  \n",
    "        zoom_range=0.3,  \n",
    "        width_shift_range=0.13, \n",
    "        height_shift_range=0.13)"
   ]
  },
  {
   "cell_type": "code",
   "execution_count": 6,
   "id": "8e059c45",
   "metadata": {},
   "outputs": [],
   "source": [
    "datagen.fit(x_train)"
   ]
  },
  {
   "cell_type": "code",
   "execution_count": 7,
   "id": "9ac4d74a",
   "metadata": {},
   "outputs": [],
   "source": [
    "# Define the architecture of the neural network using Keras Sequential API\n",
    "from tensorflow.keras.models import Sequential\n",
    "from tensorflow.keras.layers import Conv2D, MaxPool2D, Activation, Dense, Flatten, Dropout, BatchNormalization\n",
    "from keras.optimizers import RMSprop\n",
    "\n",
    "net = Sequential()\n",
    "\n",
    "#block1\n",
    "net.add(Conv2D(32, (5, 5), activation=None, padding='same', input_shape=(28,28,1)))\n",
    "net.add(BatchNormalization())\n",
    "net.add(Activation('relu'))\n",
    "net.add(Conv2D(32, (5, 5), activation=None, padding='same'))\n",
    "net.add(BatchNormalization())\n",
    "net.add(Activation('relu'))\n",
    "net.add(MaxPool2D(pool_size=(2,2)))\n",
    "net.add(Dropout(0.25))\n",
    "\n",
    "#block2\n",
    "net.add(Conv2D(64, (3, 3), activation=None, padding='same'))\n",
    "net.add(BatchNormalization())\n",
    "net.add(Activation('relu'))\n",
    "net.add(Conv2D(64, (3, 3), activation=None, padding='same'))\n",
    "net.add(BatchNormalization())\n",
    "net.add(Activation('relu'))\n",
    "net.add(MaxPool2D((2,2), strides=(2,2)))\n",
    "net.add(Dropout(0.25))\n",
    "\n",
    "net.add(Flatten())\n",
    "net.add(Dense(256, activation='relu'))\n",
    "net.add(Dropout(0.5))\n",
    "net.add(Dense(10, activation='softmax'))\n",
    "\n",
    "net.compile(loss='categorical_crossentropy', optimizer= 'adam', metrics=[\"accuracy\"])"
   ]
  },
  {
   "cell_type": "code",
   "execution_count": 8,
   "id": "bb287a34",
   "metadata": {},
   "outputs": [
    {
     "name": "stdout",
     "output_type": "stream",
     "text": [
      "Model: \"sequential\"\n",
      "_________________________________________________________________\n",
      " Layer (type)                Output Shape              Param #   \n",
      "=================================================================\n",
      " conv2d (Conv2D)             (None, 28, 28, 32)        832       \n",
      "                                                                 \n",
      " batch_normalization (BatchN  (None, 28, 28, 32)       128       \n",
      " ormalization)                                                   \n",
      "                                                                 \n",
      " activation (Activation)     (None, 28, 28, 32)        0         \n",
      "                                                                 \n",
      " conv2d_1 (Conv2D)           (None, 28, 28, 32)        25632     \n",
      "                                                                 \n",
      " batch_normalization_1 (Batc  (None, 28, 28, 32)       128       \n",
      " hNormalization)                                                 \n",
      "                                                                 \n",
      " activation_1 (Activation)   (None, 28, 28, 32)        0         \n",
      "                                                                 \n",
      " max_pooling2d (MaxPooling2D  (None, 14, 14, 32)       0         \n",
      " )                                                               \n",
      "                                                                 \n",
      " dropout (Dropout)           (None, 14, 14, 32)        0         \n",
      "                                                                 \n",
      " conv2d_2 (Conv2D)           (None, 14, 14, 64)        18496     \n",
      "                                                                 \n",
      " batch_normalization_2 (Batc  (None, 14, 14, 64)       256       \n",
      " hNormalization)                                                 \n",
      "                                                                 \n",
      " activation_2 (Activation)   (None, 14, 14, 64)        0         \n",
      "                                                                 \n",
      " conv2d_3 (Conv2D)           (None, 14, 14, 64)        36928     \n",
      "                                                                 \n",
      " batch_normalization_3 (Batc  (None, 14, 14, 64)       256       \n",
      " hNormalization)                                                 \n",
      "                                                                 \n",
      " activation_3 (Activation)   (None, 14, 14, 64)        0         \n",
      "                                                                 \n",
      " max_pooling2d_1 (MaxPooling  (None, 7, 7, 64)         0         \n",
      " 2D)                                                             \n",
      "                                                                 \n",
      " dropout_1 (Dropout)         (None, 7, 7, 64)          0         \n",
      "                                                                 \n",
      " flatten (Flatten)           (None, 3136)              0         \n",
      "                                                                 \n",
      " dense (Dense)               (None, 256)               803072    \n",
      "                                                                 \n",
      " dropout_2 (Dropout)         (None, 256)               0         \n",
      "                                                                 \n",
      " dense_1 (Dense)             (None, 10)                2570      \n",
      "                                                                 \n",
      "=================================================================\n",
      "Total params: 888,298\n",
      "Trainable params: 887,914\n",
      "Non-trainable params: 384\n",
      "_________________________________________________________________\n"
     ]
    }
   ],
   "source": [
    "net.summary()"
   ]
  },
  {
   "cell_type": "code",
   "execution_count": 9,
   "id": "eac59ec0",
   "metadata": {},
   "outputs": [
    {
     "name": "stdout",
     "output_type": "stream",
     "text": [
      "Epoch 1/100\n",
      "938/938 [==============================] - 15s 11ms/step - loss: 0.7461 - accuracy: 0.7569 - val_loss: 0.0700 - val_accuracy: 0.9795\n",
      "Epoch 2/100\n",
      "938/938 [==============================] - 10s 10ms/step - loss: 0.2755 - accuracy: 0.9193 - val_loss: 0.0978 - val_accuracy: 0.9705\n",
      "Epoch 3/100\n",
      "938/938 [==============================] - 10s 11ms/step - loss: 0.2059 - accuracy: 0.9413 - val_loss: 0.0318 - val_accuracy: 0.9902\n",
      "Epoch 4/100\n",
      "938/938 [==============================] - 10s 10ms/step - loss: 0.1695 - accuracy: 0.9500 - val_loss: 0.0315 - val_accuracy: 0.9903\n",
      "Epoch 5/100\n",
      "938/938 [==============================] - 10s 10ms/step - loss: 0.1531 - accuracy: 0.9555 - val_loss: 0.0304 - val_accuracy: 0.9898\n",
      "Epoch 6/100\n",
      "938/938 [==============================] - 10s 11ms/step - loss: 0.1388 - accuracy: 0.9604 - val_loss: 0.0347 - val_accuracy: 0.9899\n",
      "Epoch 7/100\n",
      "938/938 [==============================] - 10s 10ms/step - loss: 0.1265 - accuracy: 0.9646 - val_loss: 0.0278 - val_accuracy: 0.9920\n",
      "Epoch 8/100\n",
      "938/938 [==============================] - 10s 11ms/step - loss: 0.1141 - accuracy: 0.9674 - val_loss: 0.0220 - val_accuracy: 0.9929\n",
      "Epoch 9/100\n",
      "938/938 [==============================] - 10s 11ms/step - loss: 0.1031 - accuracy: 0.9708 - val_loss: 0.0194 - val_accuracy: 0.9940\n",
      "Epoch 10/100\n",
      "938/938 [==============================] - 10s 11ms/step - loss: 0.0981 - accuracy: 0.9714 - val_loss: 0.0219 - val_accuracy: 0.9936\n",
      "Epoch 11/100\n",
      "938/938 [==============================] - 10s 11ms/step - loss: 0.0940 - accuracy: 0.9742 - val_loss: 0.0214 - val_accuracy: 0.9941\n",
      "Epoch 12/100\n",
      "938/938 [==============================] - 10s 10ms/step - loss: 0.0852 - accuracy: 0.9769 - val_loss: 0.0200 - val_accuracy: 0.9927\n",
      "Epoch 13/100\n",
      "938/938 [==============================] - 10s 11ms/step - loss: 0.0764 - accuracy: 0.9777 - val_loss: 0.0193 - val_accuracy: 0.9934\n",
      "Epoch 14/100\n",
      "938/938 [==============================] - 10s 10ms/step - loss: 0.0743 - accuracy: 0.9796 - val_loss: 0.0329 - val_accuracy: 0.9906\n",
      "Epoch 15/100\n",
      "938/938 [==============================] - 10s 10ms/step - loss: 0.0731 - accuracy: 0.9798 - val_loss: 0.0179 - val_accuracy: 0.9940\n",
      "Epoch 16/100\n",
      "938/938 [==============================] - 10s 10ms/step - loss: 0.0661 - accuracy: 0.9807 - val_loss: 0.0192 - val_accuracy: 0.9939\n",
      "Epoch 17/100\n",
      "938/938 [==============================] - 10s 10ms/step - loss: 0.0660 - accuracy: 0.9816 - val_loss: 0.0142 - val_accuracy: 0.9952\n",
      "Epoch 18/100\n",
      "938/938 [==============================] - 10s 10ms/step - loss: 0.0597 - accuracy: 0.9828 - val_loss: 0.0134 - val_accuracy: 0.9955\n",
      "Epoch 19/100\n",
      "938/938 [==============================] - 10s 10ms/step - loss: 0.0612 - accuracy: 0.9828 - val_loss: 0.0186 - val_accuracy: 0.9943\n",
      "Epoch 20/100\n",
      "938/938 [==============================] - 11s 11ms/step - loss: 0.0576 - accuracy: 0.9842 - val_loss: 0.0135 - val_accuracy: 0.9949\n",
      "Epoch 21/100\n",
      "938/938 [==============================] - 10s 11ms/step - loss: 0.0553 - accuracy: 0.9845 - val_loss: 0.0189 - val_accuracy: 0.9939\n",
      "Epoch 22/100\n",
      "938/938 [==============================] - 10s 10ms/step - loss: 0.0539 - accuracy: 0.9846 - val_loss: 0.0203 - val_accuracy: 0.9937\n",
      "Epoch 23/100\n",
      "938/938 [==============================] - 10s 10ms/step - loss: 0.0528 - accuracy: 0.9853 - val_loss: 0.0130 - val_accuracy: 0.9958\n",
      "Epoch 24/100\n",
      "938/938 [==============================] - 10s 10ms/step - loss: 0.0486 - accuracy: 0.9858 - val_loss: 0.0155 - val_accuracy: 0.9951\n",
      "Epoch 25/100\n",
      "938/938 [==============================] - 11s 12ms/step - loss: 0.0495 - accuracy: 0.9866 - val_loss: 0.0168 - val_accuracy: 0.9942\n",
      "Epoch 26/100\n",
      "938/938 [==============================] - 10s 10ms/step - loss: 0.0483 - accuracy: 0.9865 - val_loss: 0.0147 - val_accuracy: 0.9960\n",
      "Epoch 27/100\n",
      "938/938 [==============================] - 10s 10ms/step - loss: 0.0502 - accuracy: 0.9862 - val_loss: 0.0154 - val_accuracy: 0.9953\n",
      "Epoch 28/100\n",
      "938/938 [==============================] - 10s 10ms/step - loss: 0.0479 - accuracy: 0.9869 - val_loss: 0.0116 - val_accuracy: 0.9969\n",
      "Epoch 29/100\n",
      "938/938 [==============================] - 10s 10ms/step - loss: 0.0473 - accuracy: 0.9866 - val_loss: 0.0140 - val_accuracy: 0.9953\n",
      "Epoch 30/100\n",
      "938/938 [==============================] - 10s 10ms/step - loss: 0.0452 - accuracy: 0.9869 - val_loss: 0.0135 - val_accuracy: 0.9959\n",
      "Epoch 31/100\n",
      "938/938 [==============================] - 10s 10ms/step - loss: 0.0422 - accuracy: 0.9880 - val_loss: 0.0130 - val_accuracy: 0.9956\n",
      "Epoch 32/100\n",
      "938/938 [==============================] - 11s 12ms/step - loss: 0.0446 - accuracy: 0.9872 - val_loss: 0.0135 - val_accuracy: 0.9954\n",
      "Epoch 33/100\n",
      "938/938 [==============================] - 11s 12ms/step - loss: 0.0438 - accuracy: 0.9880 - val_loss: 0.0142 - val_accuracy: 0.9954\n"
     ]
    }
   ],
   "source": [
    "import scipy\n",
    "from tensorflow.keras.callbacks import EarlyStopping\n",
    "# Use EarlyStopping to stop training if the validation loss does not improve for 5 epochs\n",
    "early_stop = EarlyStopping(monitor='val_loss', patience=5)\n",
    "history = net.fit(datagen.flow(x_train, y_train, batch_size=64),\n",
    "                  validation_data=(x_test, y_test), epochs=100, callbacks=[early_stop])"
   ]
  },
  {
   "cell_type": "code",
   "execution_count": 13,
   "id": "0e25d5c2",
   "metadata": {},
   "outputs": [
    {
     "name": "stdout",
     "output_type": "stream",
     "text": [
      "313/313 [==============================] - 0s 1ms/step\n",
      "Accuracy =  99.54\n"
     ]
    }
   ],
   "source": [
    "import numpy as np\n",
    "outputs=net.predict(x_test)\n",
    "labels_predicted=np.argmax(outputs, axis=1)\n",
    "# Calculate the accuracy of the model on the test set\n",
    "misclassified=sum(labels_predicted!=labels_test)\n",
    "print('Accuracy = ',100-(100*misclassified/labels_test.size))"
   ]
  },
  {
   "cell_type": "code",
   "execution_count": 14,
   "id": "9eafcd6c",
   "metadata": {},
   "outputs": [
    {
     "data": {
      "text/plain": [
       "<matplotlib.legend.Legend at 0x2567a7827f0>"
      ]
     },
     "execution_count": 14,
     "metadata": {},
     "output_type": "execute_result"
    },
    {
     "data": {
      "image/png": "[encoded data removed]",
      "text/plain": [
       "<Figure size 640x480 with 1 Axes>"
      ]
     },
     "metadata": {},
     "output_type": "display_data"
    }
   ],
   "source": [
    "import matplotlib.pyplot as plt\n",
    "plt.figure()\n",
    "plt.plot(history.history['loss'], label='training loss')\n",
    "plt.plot(history.history['val_loss'], label='validation loss')\n",
    "plt.xlabel('epochs')\n",
    "plt.ylabel('loss')\n",
    "plt.legend()"
   ]
  },
  {
   "cell_type": "code",
   "execution_count": 15,
   "id": "28e14bff",
   "metadata": {},
   "outputs": [
    {
     "name": "stdout",
     "output_type": "stream",
     "text": [
      "1/1 [==============================] - 0s 13ms/step\n",
      "1/1 [==============================] - 0s 14ms/step\n",
      "1/1 [==============================] - 0s 15ms/step\n",
      "1/1 [==============================] - 0s 14ms/step\n",
      "1/1 [==============================] - 0s 14ms/step\n",
      "1/1 [==============================] - 0s 14ms/step\n",
      "1/1 [==============================] - 0s 13ms/step\n",
      "1/1 [==============================] - 0s 13ms/step\n"
     ]
    },
    {
     "data": {
      "image/png": "[encoded data removed]",
      "text/plain": [
       "<Figure size 800x200 with 16 Axes>"
      ]
     },
     "metadata": {},
     "output_type": "display_data"
    }
   ],
   "source": [
    "plt.figure(figsize=(8, 2))\n",
    "for i in range(0,8):\n",
    " ax=plt.subplot(2,8,i+1)\n",
    " plt.imshow(x_test[i,:].reshape(28,28), cmap=plt.get_cmap('gray_r'))\n",
    " plt.title(labels_test[i])\n",
    " ax.get_xaxis().set_visible(False)\n",
    " ax.get_yaxis().set_visible(False)\n",
    "for i in range(0,8):\n",
    " output = net.predict(x_test[i,:].reshape(1, 28,28,1))   \n",
    " output=output[0,0:]\n",
    " plt.subplot(2,8,8+i+1)\n",
    " plt.bar(np.arange(10.),output)\n",
    " plt.title(np.argmax(output))"
   ]
  },
  {
   "cell_type": "code",
   "execution_count": 16,
   "id": "fce47cb0",
   "metadata": {},
   "outputs": [],
   "source": [
    "net.save(\"H5/model2.h5\")"
   ]
  },
  {
   "cell_type": "code",
   "execution_count": null,
   "id": "c736a3c3",
   "metadata": {},
   "outputs": [],
   "source": []
  }
 ],
 "metadata": {
  "kernelspec": {
   "display_name": "Python 3 (ipykernel)",
   "language": "python",
   "name": "python3"
  },
  "language_info": {
   "codemirror_mode": {
    "name": "ipython",
    "version": 3
   },
   "file_extension": ".py",
   "mimetype": "text/x-python",
   "name": "python",
   "nbconvert_exporter": "python",
   "pygments_lexer": "ipython3",
   "version": "3.9.16"
  }
 },
 "nbformat": 4,
 "nbformat_minor": 5
}
